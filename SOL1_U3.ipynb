{
 "metadata": {
  "name": "",
  "signature": "sha256:19bc30e9b91e6fc8041ba1e269aa693d2f875a0616b53341e8d720fa0f9abeb8"
 },
 "nbformat": 3,
 "nbformat_minor": 0,
 "worksheets": [
  {
   "cells": [
    {
     "cell_type": "heading",
     "level": 2,
     "metadata": {},
     "source": [
      "J\u0119zyk Python - Laboratorium 3."
     ]
    },
    {
     "cell_type": "heading",
     "level": 2,
     "metadata": {},
     "source": [
      "ZADANIA"
     ]
    },
    {
     "cell_type": "markdown",
     "metadata": {},
     "source": [
      "Uzupe\u0142nij definicje poni\u017cszych funkcji/generator\u00f3w"
     ]
    },
    {
     "cell_type": "code",
     "collapsed": false,
     "input": [
      "def natural_numbers(k=0):\n",
      "    \"\"\"Tworzy generator liczb naturalnych od liczby k\"\"\"\n",
      "    if k < 0:\n",
      "        k = 0\n",
      "    \n",
      "    while True:\n",
      "        yield k\n",
      "        k += 1\n",
      "\n",
      "import types\n",
      "print(isinstance(natural_numbers(), types.GeneratorType))\n",
      "\n",
      "for i, n in enumerate(natural_numbers()):\n",
      "    print(i, i == n)\n",
      "    if i > 20:\n",
      "        break\n",
      "        \n",
      "for i, n in enumerate(natural_numbers(1)):\n",
      "    print(i, i+1 == n)\n",
      "    if i > 20:\n",
      "        break"
     ],
     "language": "python",
     "metadata": {},
     "outputs": [
      {
       "output_type": "stream",
       "stream": "stdout",
       "text": [
        "True\n",
        "0 True\n",
        "1 True\n",
        "2 True\n",
        "3 True\n",
        "4 True\n",
        "5 True\n",
        "6 True\n",
        "7 True\n",
        "8 True\n",
        "9 True\n",
        "10 True\n",
        "11 True\n",
        "12 True\n",
        "13 True\n",
        "14 True\n",
        "15 True\n",
        "16 True\n",
        "17 True\n",
        "18 True\n",
        "19 True\n",
        "20 True\n",
        "21 True\n",
        "0 True\n",
        "1 True\n",
        "2 True\n",
        "3 True\n",
        "4 True\n",
        "5 True\n",
        "6 True\n",
        "7 True\n",
        "8 True\n",
        "9 True\n",
        "10 True\n",
        "11 True\n",
        "12 True\n",
        "13 True\n",
        "14 True\n",
        "15 True\n",
        "16 True\n",
        "17 True\n",
        "18 True\n",
        "19 True\n",
        "20 True\n",
        "21 True\n"
       ]
      }
     ],
     "prompt_number": 2
    },
    {
     "cell_type": "code",
     "collapsed": false,
     "input": [
      "def factorials():\n",
      "    \"\"\"Tworzy generator kolejnych silnii\"\"\"\n",
      "    acc = 1\n",
      "    for i in natural_numbers(k=1):\n",
      "        acc *= i\n",
      "        yield acc\n",
      "\n",
      "import types\n",
      "print(isinstance(factorials(), types.GeneratorType))\n",
      "\n",
      "results = [1, 2, 6, 24, 120, 720, 5040]\n",
      "for truth, answer in zip(results, factorials()):\n",
      "    print(truth, truth == answer)"
     ],
     "language": "python",
     "metadata": {},
     "outputs": [
      {
       "output_type": "stream",
       "stream": "stdout",
       "text": [
        "True\n",
        "1 True\n",
        "2 True\n",
        "6 True\n",
        "24 True\n",
        "120 True\n",
        "720 True\n",
        "5040 True\n"
       ]
      }
     ],
     "prompt_number": 4
    },
    {
     "cell_type": "markdown",
     "metadata": {},
     "source": [
      "W poni\u017cszej serii zada\u0144 **nie u\u017cywaj** \\* comprehension, zamiast tego u\u017cyj paradygmatu funkcyjnego. Ka\u017cde rozwi\u0105zanie powinno by\u0107 jednolinijkowe"
     ]
    },
    {
     "cell_type": "code",
     "collapsed": false,
     "input": [
      "def celsius_to_fahrenheit(x):\n",
      "    \"\"\"Konwertuje liste temperatur w stopniach Celsjusza do skali Fahrenheita\"\"\"\n",
      "    return list(map(lambda a: 32.0 + (9.0/5.0) * a, x))\n",
      "\n",
      "print(celsius_to_fahrenheit([0, 10, 100]) == [32.0, 50.0, 212.0])\n",
      "print(celsius_to_fahrenheit([-123, 0]) == [-189.4, 32.0])"
     ],
     "language": "python",
     "metadata": {},
     "outputs": [
      {
       "output_type": "stream",
       "stream": "stdout",
       "text": [
        "True\n",
        "True\n"
       ]
      }
     ],
     "prompt_number": 6
    },
    {
     "cell_type": "code",
     "collapsed": false,
     "input": [
      "from functools import reduce\n",
      "\n",
      "def product_greater_than(x, k=0):\n",
      "    \"\"\"Zwraca iloczyn liczb w li\u015bcie x wi\u0119kszych od k\"\"\"\n",
      "    return reduce(lambda acc, a: a*acc, filter(lambda a: a>k, x))\n",
      "\n",
      "print(product_greater_than([1, 2, 3]) == 6)\n",
      "print(product_greater_than([1, 2, 3], 2) == 3)\n",
      "print(product_greater_than([-4, 5, 10, 23, 123], -5) == -565800)"
     ],
     "language": "python",
     "metadata": {},
     "outputs": [
      {
       "output_type": "stream",
       "stream": "stdout",
       "text": [
        "True\n",
        "True\n",
        "True\n"
       ]
      }
     ],
     "prompt_number": 9
    },
    {
     "cell_type": "code",
     "collapsed": false,
     "input": [
      "def create_sentence(x, k=0):\n",
      "    \"\"\"\u0141\u0105czy s\u0142owa (o d\u0142ugo\u015bci co najmniej k) z listy x w zdanie\"\"\"\n",
      "    return reduce(lambda sent, word: sent + ' ' + word,\\\n",
      "                  filter(lambda word: len(word)>=k, x))\n",
      "\n",
      "print(create_sentence(['ala', 'ma', 'kota']) == 'ala ma kota')\n",
      "print(create_sentence(['ala']) == 'ala')\n",
      "print(create_sentence(['ala', 'ma', 'pieknego', 'kota'], k=3) == 'ala pieknego kota')"
     ],
     "language": "python",
     "metadata": {},
     "outputs": [
      {
       "output_type": "stream",
       "stream": "stdout",
       "text": [
        "True\n",
        "True\n",
        "True\n"
       ]
      }
     ],
     "prompt_number": 10
    },
    {
     "cell_type": "markdown",
     "metadata": {},
     "source": [
      "Dopisz brakuj\u0105ce metody/dekoratory poni\u017cszych funkcji/obiekt\u00f3w"
     ]
    },
    {
     "cell_type": "code",
     "collapsed": false,
     "input": [
      "import sys\n",
      "sys.float_info.epsilon #epsilon maszynowy\n",
      "\n",
      "def derivate(epsilon=None):\n",
      "    \"\"\"\n",
      "    zwraca pochodn\u0105 funkcji w punkcie, wg. wzoru f'(x) = [f(x+h) - f(x)]/h, \n",
      "    gdzie h jest parametrem dekoratora, je\u015bli nie zostanie podany, nale\u017cy przyj\u0105\u0107 1000 * epsilon maszynowy\n",
      "    \"\"\"\n",
      "    if not epsilon:\n",
      "        epsilon = sys.float_info.epsilon * 1000\n",
      "    \n",
      "    def wrap1(f):\n",
      "        def wrap2(x):\n",
      "            return (f(x+epsilon)-f(x))/epsilon\n",
      "        return wrap2\n",
      "    return wrap1\n",
      "\n",
      "class derivate:\n",
      "    \"\"\"\n",
      "    wersja z klas\u0105\n",
      "    \"\"\"\n",
      "    \n",
      "    def __init__(self, epsilon):\n",
      "        self.epsilon = epsilon\n",
      "        \n",
      "    def __call__(self, f):\n",
      "        def wrap(x):\n",
      "            return (f(x + self.epsilon) - f(x)) / self.epsilon\n",
      "        return wrap\n",
      "\n",
      "#@derivate   # tmp = derivate\n",
      "#def f(x):   \n",
      "#    return x*x\n",
      "\n",
      "# f = tmp(f)\n",
      "\n",
      "@derivate(0.01) # tmp = derivate(0.01)\n",
      "def f(x):\n",
      "    return x*x\n",
      "#\n",
      "# f = tmp(f)\n",
      "\n",
      "@derivate(0.00001)\n",
      "def g(x):\n",
      "    return x*x*x+3\n",
      "\n",
      "def test(a, b, eps=1):\n",
      "    return abs(round(a)-round(b)) < eps\n",
      "\n",
      "print(test(f(100), 200.0))\n",
      "print(round(f(0)) == 0.0)\n",
      "\n",
      "print(test(g(100), 30000.0))\n",
      "print(round(g(0)) == 0.0)\n",
      "\n",
      "from random import random\n",
      "for x in [random()*1000. for _ in range(20)]:\n",
      "    print(f(x), 2*x, test(f(x), 2*x))\n",
      "    print(g(x), 3*x**2, test(g(x), 3*x**2))"
     ],
     "language": "python",
     "metadata": {},
     "outputs": [
      {
       "output_type": "stream",
       "stream": "stdout",
       "text": [
        "True\n",
        "True\n",
        "True\n",
        "True\n",
        "713.4223820452462 713.4123820469607 True\n",
        "381717.9292440414 381717.92014343897 True\n",
        "1434.0370675490703 1434.0270675448025 True\n",
        "1542325.2463340757 1542325.2228383592 True\n",
        "1420.0913315755315 1420.081331577636 True\n",
        "1512473.255395889 1512473.241221484 True\n",
        "1957.6620893902145 1957.652089392111 True\n",
        "2874301.3024330135 2874301.2773259734 True\n",
        "768.6602491332451 768.6502491337606 True\n",
        "443117.4144148826 443117.40412004414 True\n",
        "150.38897872773305 150.3789787276657 True\n",
        "16960.380197269842 16960.377932381798 True\n",
        "303.67173567792634 303.66173567833556 True\n",
        "69157.84189477563 69157.8372863845 True\n",
        "1678.4527302719653 1678.4427302692604 True\n",
        "2112877.5238990784 2112877.499095297 False\n",
        "562.5523448674357 562.5423448687023 True\n",
        "237340.42458236215 237340.41732778354 True\n",
        "224.86163775392924 224.85163775382588 True\n",
        "37918.69762353599 37918.694250433306 True\n",
        "1646.854898892343 1646.8448988947268 True\n",
        "2034073.6150741575 2034073.5907616874 True\n",
        "1999.8704345198348 1999.860434531011 True\n",
        "2999581.336975097 2999581.318201923 True\n",
        "1521.6414750320837 1521.6314750347155 True\n",
        "1736521.780490875 1736521.759362243 True\n",
        "1220.89541835594 1220.8854183617802 True\n",
        "1117920.9202528 1117920.9035763144 True\n",
        "531.4342924946686 531.4242924965058 True\n",
        "211808.84130299088 211808.83399155884 True\n",
        "1007.1984037902439 1007.1884037930256 True\n",
        "760821.3737607001 760821.3605513572 True\n",
        "26.601329580756783 26.591329580756717 True\n",
        "530.3245055074512 530.3241066543204 True\n",
        "1676.9979424774647 1676.9879424738344 True\n",
        "2109216.4397239685 2109216.4194019684 True\n",
        "1289.9613011686597 1289.9513011674226 True\n",
        "1247980.785369873 1247980.769537645 True\n",
        "725.7112318387954 725.7012318385518 True\n",
        "394981.71955347055 394981.7084189936 True\n"
       ]
      }
     ],
     "prompt_number": 14
    },
    {
     "cell_type": "code",
     "collapsed": false,
     "input": [
      "from copy import deepcopy\n",
      "\n",
      "class FrozenDictionary(object):\n",
      "    \"\"\"\n",
      "    Odpowiednik frozenset dla zbior\u00f3w, czyli s\u0142ownik, kt\u00f3ry nie jest modyfikowalny,\n",
      "    a dzi\u0119ki temu mo\u017ce by\u0107 np. elementem zbior\u00f3w, albo kluczem w innym s\u0142owniku.\n",
      "    \"\"\"\n",
      "    \n",
      "    def __init__(self, dictionary):\n",
      "        \"\"\"Tworzy nowy zamro\u017cony s\u0142ownik z podanego s\u0142ownika\"\"\"\n",
      "        #self.d = deepcopy(dictionary)\n",
      "        self.d = tuple(zip(dictionary.keys(), dictionary.values()))\n",
      "    \n",
      "    def __hash__(self):\n",
      "        \"\"\"Zwraca hasz s\u0142ownika (int)\"\"\"\n",
      "        #return hash(frozenset(self.d.items()))\n",
      "        return hash(self.d)\n",
      "    \n",
      "    def __eq__(self, d):\n",
      "        \"\"\"Por\u00f3wnuje nasz s\u0142ownik z zamro\u017conym s\u0142ownikiem d\"\"\"\n",
      "        return self.d == d\n",
      "    \n",
      "    def __repr__(self):\n",
      "        \"\"\"Zwraca reprezentacj\u0119 naszego s\u0142ownika jako string\"\"\"\n",
      "        return str(self.d)\n",
      "        \n",
      "dicts = [FrozenDictionary({'ala': 4}), FrozenDictionary({'ala': 1, 'jacek': 0}), \\\n",
      "         FrozenDictionary({'ala': 4}), FrozenDictionary({'ala': 2}), FrozenDictionary({'jacek': 0, 'ala': 1})]\n",
      "\n",
      "s = set(dicts)\n",
      "print(dicts[0] == dicts[2])\n",
      "print(dicts[0] != dicts[3])\n",
      "print(len(s) == 3)\n",
      "for d in dicts:\n",
      "    print(d in s)\n",
      "\n",
      "# Powinno wy\u015bwietli\u0107 co\u015b w stylu set([{'ala': 4}, {'ala': 1, 'jacek': 0}, {'ala': 2}])\n",
      "print(s)\n"
     ],
     "language": "python",
     "metadata": {},
     "outputs": [
      {
       "output_type": "stream",
       "stream": "stdout",
       "text": [
        "True\n",
        "True\n",
        "True\n",
        "True\n",
        "True\n",
        "True\n",
        "True\n",
        "True\n",
        "{(('ala', 2),), (('ala', 4),), (('jacek', 0), ('ala', 1))}\n"
       ]
      }
     ],
     "prompt_number": 18
    },
    {
     "cell_type": "markdown",
     "metadata": {},
     "source": [
      "**Zadanie dodatkowe**\n",
      "\n",
      "Stw\u00f3rz dekorator `cached` s\u0142u\u017c\u0105cy do cachowania wywo\u0142a\u0144 dowolnej funkcji, tzn. chcemy by:\n",
      "\n",
      "* wywo\u0142anie funkcji z okre\u015blonymi argumentami mia\u0142o miejsce tylko raz\n",
      "* funkcja mog\u0142a przyjmowa\u0107\u00a0dowoln\u0105 liczb\u0119 nazwanych i nienazwanych argument\u00f3w\n",
      "* nie musi reagowa\u0107 poprawnie na domy\u015blne argumenty, tzn. wywo\u0142anie funkcji z domy\u015blnymi argumentami a podanie dok\u0142adnie takich samych mo\u017ce by\u0107 traktowane jako dwa r\u00f3\u017cne wywo\u0142ania\n",
      "* na opakowanej funkcji mo\u017cna wywo\u0142a\u0107 `.cache_reset()`, kt\u00f3ry usunie cache z pami\u0119ci\n",
      "* wywo\u0142anie `.cache_status()` zwraca string z opisem w postaci:\n",
      "\n",
      "  Function FUNCTION_NAME called X times, evaluated Y times\n",
      "  "
     ]
    },
    {
     "cell_type": "code",
     "collapsed": false,
     "input": [
      "from random import random\n",
      "\n",
      "@cached\n",
      "def foo(x, y=1, z=4):\n",
      "    return random()\n",
      "        \n",
      "print(foo(3) == foo(3))\n",
      "print(foo(4) == foo(4))\n",
      "print(foo(3, z=-1, y=3) == foo(3, y=3, z=-1))\n",
      "print(foo(3) != foo(x=3))\n",
      "a = foo(3)\n",
      "foo.cache_reset()\n",
      "print(a != foo(3))\n",
      "print(foo.cache_status() == 'Function foo called 10 times, evaluated 5 times')               "
     ],
     "language": "python",
     "metadata": {},
     "outputs": []
    }
   ],
   "metadata": {}
  }
 ]
}