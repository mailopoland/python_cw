{
 "metadata": {
  "name": "",
  "signature": "sha256:dd62f0b6c693788ac86789e381c7f8892611a02cc4bd1473e79607bd0ee5bd13"
 },
 "nbformat": 3,
 "nbformat_minor": 0,
 "worksheets": [
  {
   "cells": [
    {
     "cell_type": "heading",
     "level": 2,
     "metadata": {},
     "source": [
      "J\u0119zyk Python - Laboratorium 3."
     ]
    },
    {
     "cell_type": "heading",
     "level": 2,
     "metadata": {},
     "source": [
      "ZADANIA"
     ]
    },
    {
     "cell_type": "markdown",
     "metadata": {},
     "source": [
      "Uzupe\u0142nij definicje poni\u017cszych funkcji/generator\u00f3w"
     ]
    },
    {
     "cell_type": "code",
     "collapsed": false,
     "input": [
      "def natural_numbers(k=0):\n",
      "    \"\"\"Tworzy generator liczb naturalnych od liczby k\"\"\"\n",
      "    while True:\n",
      "        yield k\n",
      "        k = k+1\n",
      "#     i = k\n",
      "#     while True:\n",
      "#         i += 1\n",
      "#         yield i\n",
      "\n",
      "import types\n",
      "print(isinstance(natural_numbers(), types.GeneratorType))\n",
      "\n",
      "for i, n in enumerate(natural_numbers()):\n",
      "    print(i, i == n)\n",
      "    if i > 20:\n",
      "        break\n",
      "        \n",
      "for i, n in enumerate(natural_numbers(1)):\n",
      "    print(i, i+1 == n)\n",
      "    if i > 20:\n",
      "        break"
     ],
     "language": "python",
     "metadata": {},
     "outputs": [
      {
       "output_type": "stream",
       "stream": "stdout",
       "text": [
        "True\n",
        "0 True\n",
        "1 True\n",
        "2 True\n",
        "3 True\n",
        "4 True\n",
        "5 True\n",
        "6 True\n",
        "7 True\n",
        "8 True\n",
        "9 True\n",
        "10 True\n",
        "11 True\n",
        "12 True\n",
        "13 True\n",
        "14 True\n",
        "15 True\n",
        "16 True\n",
        "17 True\n",
        "18 True\n",
        "19 True\n",
        "20 True\n",
        "21 True\n",
        "0 True\n",
        "1 True\n",
        "2 True\n",
        "3 True\n",
        "4 True\n",
        "5 True\n",
        "6 True\n",
        "7 True\n",
        "8 True\n",
        "9 True\n",
        "10 True\n",
        "11 True\n",
        "12 True\n",
        "13 True\n",
        "14 True\n",
        "15 True\n",
        "16 True\n",
        "17 True\n",
        "18 True\n",
        "19 True\n",
        "20 True\n",
        "21 True\n"
       ]
      }
     ],
     "prompt_number": 6
    },
    {
     "cell_type": "code",
     "collapsed": false,
     "input": [
      "def factorials():\n",
      "    \"\"\"Tworzy generator kolejnych silnii\"\"\"\n",
      "    \n",
      "    k = 1\n",
      "    for i in natural_numbers(1):\n",
      "        k *= i\n",
      "        yield k\n",
      "    \n",
      "#     i = 1\n",
      "#     k =1\n",
      "#     while True:\n",
      "#         yield k\n",
      "#         i = i + 1\n",
      "#         k = k * i\n",
      "        \n",
      "#     yield 1\n",
      "#     i = 1\n",
      "#     mul = 2\n",
      "#     while True:\n",
      "#         i *= mul\n",
      "#         mul += 1\n",
      "#         yield i\n",
      "\n",
      "import types\n",
      "print(isinstance(factorials(), types.GeneratorType))\n",
      "\n",
      "results = [1, 2, 6, 24, 120, 720, 5040]\n",
      "for truth, answer in zip(results, factorials()):\n",
      "    print(truth, truth == answer)"
     ],
     "language": "python",
     "metadata": {},
     "outputs": [
      {
       "output_type": "stream",
       "stream": "stdout",
       "text": [
        "True\n",
        "1 True\n",
        "2 True\n",
        "6 True\n",
        "24 True\n",
        "120 True\n",
        "720 True\n",
        "5040 True\n"
       ]
      }
     ],
     "prompt_number": 8
    },
    {
     "cell_type": "markdown",
     "metadata": {},
     "source": [
      "W poni\u017cszej serii zada\u0144 **nie u\u017cywaj** \\* comprehension, zamiast tego u\u017cyj paradygmatu funkcyjnego. Ka\u017cde rozwi\u0105zanie powinno by\u0107 jednolinijkowe"
     ]
    },
    {
     "cell_type": "code",
     "collapsed": false,
     "input": [
      "def celsius_to_fahrenheit(x):\n",
      "    \"\"\"Konwertuje liste temperatur w stopniach Celsjusza do skali Fahrenheita\"\"\"\n",
      "    return list(map( lambda t: 9*t/5 + 32 ,x))\n",
      "\n",
      "print(celsius_to_fahrenheit([0, 10, 100]) == [32.0, 50.0, 212.0])\n",
      "print(celsius_to_fahrenheit([-123, 0]) == [-189.4, 32.0])"
     ],
     "language": "python",
     "metadata": {},
     "outputs": [
      {
       "output_type": "stream",
       "stream": "stdout",
       "text": [
        "True\n",
        "True\n"
       ]
      }
     ],
     "prompt_number": 10
    },
    {
     "cell_type": "code",
     "collapsed": false,
     "input": [
      "from functools import reduce\n",
      "\n",
      "def product_greater_than(x, k=0):\n",
      "    \"\"\"Zwraca iloczyn liczb w li\u015bcie x wi\u0119kszych od k\"\"\"\n",
      "    return reduce( lambda a, b: a * b, filter( lambda el: el > k ,x))\n",
      "\n",
      "print(product_greater_than([1, 2, 3]) == 6)\n",
      "print(product_greater_than([1, 2, 3], 2) == 3)\n",
      "print(product_greater_than([-4, 5, 10, 23, 123], -5) == -565800)"
     ],
     "language": "python",
     "metadata": {},
     "outputs": [
      {
       "output_type": "stream",
       "stream": "stdout",
       "text": [
        "True\n",
        "True\n",
        "True\n"
       ]
      }
     ],
     "prompt_number": 11
    },
    {
     "cell_type": "code",
     "collapsed": false,
     "input": [
      "from functools import reduce\n",
      "\n",
      "def create_sentence(x, k=0):\n",
      "    \"\"\"\u0141\u0105czy s\u0142owa (o d\u0142ugo\u015bci co najmniej k) z listy x w zdanie\"\"\"\n",
      "    return reduce( lambda w1, w2: w1 + ' ' + w2, filter( lambda el: len(el) >= k ,x))\n",
      "    return reduce( lambda *w: ' '.join(w), filter( lambda el: len(el) >= k ,x))\n",
      "\n",
      "\n",
      "print(create_sentence(['ala', 'ma', 'kota']) == 'ala ma kota')\n",
      "print(create_sentence(['ala']) == 'ala')\n",
      "print(create_sentence(['ala', 'ma', 'pieknego', 'kota'], k=3) == 'ala pieknego kota')"
     ],
     "language": "python",
     "metadata": {},
     "outputs": [
      {
       "output_type": "stream",
       "stream": "stdout",
       "text": [
        "True\n",
        "True\n",
        "True\n"
       ]
      }
     ],
     "prompt_number": 13
    },
    {
     "cell_type": "markdown",
     "metadata": {},
     "source": [
      "Dopisz brakuj\u0105ce metody/dekoratory poni\u017cszych funkcji/obiekt\u00f3w"
     ]
    },
    {
     "cell_type": "code",
     "collapsed": false,
     "input": [
      "import sys\n",
      "sys.float_info.epsilon #epsilon maszynowy\n",
      "\n",
      "def derivate(epsilon=None):\n",
      "    \"\"\"\n",
      "    zwraca pochodn\u0105 funkcji w punkcie, wg. wzoru f'(x) = [f(x+h) - f(x)]/h, \n",
      "    gdzie h jest parametrem dekoratora, je\u015bli nie zostanie podany, nale\u017cy przyj\u0105\u0107 1000 * epsilon maszynowy\n",
      "    \"\"\"\n",
      "    def real_derivative(f):\n",
      "        def f_prim(x):\n",
      "            return (f(x + epsilon) - f(x)) / epsilon\n",
      "        return f_prim\n",
      "    return real_derivative\n",
      "\n",
      "@derivate(0.01)\n",
      "def f(x):\n",
      "    return x*x\n",
      "\n",
      "@derivate(0.00001)\n",
      "def g(x):\n",
      "    return x*x*x+3\n",
      "\n",
      "def test(a, b, eps=1):\n",
      "    return abs(round(a)-round(b)) <= eps\n",
      "\n",
      "print(test(f(100), 200.0))\n",
      "print(round(f(0)) == 0.0)\n",
      "\n",
      "print(test(g(100), 30000.0))\n",
      "print(round(g(0)) == 0.0)\n",
      "\n",
      "from random import random\n",
      "for x in [random()*1000. for _ in range(20)]:\n",
      "    print(f(x), 2*x, test(f(x), 2*x))\n",
      "    print(g(x), 3*x**2, test(g(x), 3*x**2))"
     ],
     "language": "python",
     "metadata": {},
     "outputs": [
      {
       "output_type": "stream",
       "stream": "stdout",
       "text": [
        "True\n",
        "True\n",
        "True\n",
        "True\n",
        "174.17996648082408 174.16996648076542 True\n",
        "22751.385543961074 22751.382917933213 True\n",
        "848.2390408258652 848.22904082593 True\n",
        "539619.3906664848 539619.3792753579 True\n",
        "412.2690394440724 412.2590394439936 True\n",
        "127468.14303100108 127468.13670246318 True\n",
        "705.2405813563382 705.2305813569064 True\n",
        "373012.638837099 373012.62966075016 True\n",
        "1557.8393748495728 1557.8293748491487 True\n",
        "1820124.292373657 1820124.2708571672 True\n",
        "484.80161113475333 484.79161113498594 True\n",
        "176267.1871110797 176267.17967014154 True\n",
        "346.05650985577086 346.0465098562895 True\n",
        "89811.14542111753 89811.14023778931 True\n",
        "105.58163619248262 105.57163619249965 True\n",
        "8359.029365237802 8359.027776271127 True\n",
        "330.8721829940623 330.86218299431926 True\n",
        "82102.34306752682 82102.3381018248 True\n",
        "1413.8145569188055 1413.8045569201438 True\n",
        "1499132.5080394743 1499132.493876123 True\n",
        "892.1820146089885 892.1720146085223 True\n",
        "596978.1905412674 596978.177737972 True\n",
        "680.165437690448 680.155437690542 True\n",
        "346958.57390761375 346958.5645650096 True\n",
        "1107.0399496355094 1107.0299496361076 True\n",
        "919136.494398117 919136.4820434923 True\n",
        "668.9106068166438 668.9006068170021 True\n",
        "335571.0260570049 335571.0163501152 True\n",
        "1596.927463170141 1596.9174631751382 True\n",
        "1912609.0586185453 1912609.0381452893 True\n",
        "1065.7918509386946 1065.7818509410033 True\n",
        "851918.2294607161 851918.2153464232 True\n",
        "1638.1998988450505 1638.1898988505 True\n",
        "2012749.624252319 2012749.6085218587 True\n",
        "841.3611463009147 841.3511463008236 True\n",
        "530903.8251638412 530903.8135362824 True\n",
        "590.0161319616018 590.0061319622016 True\n",
        "261080.43529093263 261080.42681474914 True\n",
        "1690.8063009614125 1690.7963009645955 True\n",
        "2144094.1214561462 2144094.098516669 True\n"
       ]
      }
     ],
     "prompt_number": 17
    },
    {
     "cell_type": "code",
     "collapsed": false,
     "input": [
      "class FrozenDictionary(object):\n",
      "    \"\"\"\n",
      "    Odpowiednik frozenset dla zbior\u00f3w, czyli s\u0142ownik, kt\u00f3ry nie jest modyfikowalny,\n",
      "    a dzi\u0119ki temu mo\u017ce by\u0107 np. elementem zbior\u00f3w, albo kluczem w innym s\u0142owniku.\n",
      "    \"\"\"\n",
      "    \n",
      "    def __init__(self, dictionary):\n",
      "        \"\"\"Tworzy nowy zamro\u017cony s\u0142ownik z podanego s\u0142ownika\"\"\"\n",
      "        self.dic = tuple(sorted(dictionary.items()))\n",
      "    \n",
      "    def __hash__(self):\n",
      "        \"\"\"Zwraca hasz s\u0142ownika (int)\"\"\"\n",
      "        return hash(self.dic)\n",
      "    \n",
      "    def __eq__(self, d):\n",
      "        \"\"\"Por\u00f3wnuje nasz s\u0142ownik z zamro\u017conym s\u0142ownikiem d\"\"\"\n",
      "        return self.dic == d\n",
      "    \n",
      "    def __repr__(self):\n",
      "        \"\"\"Zwraca reprezentacj\u0119 naszego s\u0142ownika jako string\"\"\"\n",
      "        return str(self.dic)\n",
      "        \n",
      "dicts = [FrozenDictionary({'ala': 4}), FrozenDictionary({'ala': 1, 'jacek': 0}), \\\n",
      "         FrozenDictionary({'ala': 4}), FrozenDictionary({'ala': 2}), FrozenDictionary({'jacek': 0, 'ala': 1})]\n",
      "\n",
      "s = set(dicts)\n",
      "print(dicts[0] == dicts[2])\n",
      "print(dicts[0] != dicts[3])\n",
      "print(len(s) == 3)\n",
      "for d in dicts:\n",
      "    print(d in s)\n",
      "\n",
      "# Powinno wy\u015bwietli\u0107 co\u015b w stylu set([{'ala': 4}, {'ala': 1, 'jacek': 0}, {'ala': 2}])\n",
      "print(s)\n"
     ],
     "language": "python",
     "metadata": {},
     "outputs": [
      {
       "output_type": "stream",
       "stream": "stdout",
       "text": [
        "True\n",
        "True\n",
        "True\n",
        "True\n",
        "True\n",
        "True\n",
        "True\n",
        "True\n",
        "{(('ala', 1), ('jacek', 0)), (('ala', 2),), (('ala', 4),)}\n"
       ]
      }
     ],
     "prompt_number": 22
    },
    {
     "cell_type": "markdown",
     "metadata": {},
     "source": [
      "**Zadanie dodatkowe**\n",
      "\n",
      "Stw\u00f3rz dekorator `cached` s\u0142u\u017c\u0105cy do cachowania wywo\u0142a\u0144 dowolnej funkcji, tzn. chcemy by:\n",
      "\n",
      "* wywo\u0142anie funkcji z okre\u015blonymi argumentami mia\u0142o miejsce tylko raz\n",
      "* funkcja mog\u0142a przyjmowa\u0107\u00a0dowoln\u0105 liczb\u0119 nazwanych i nienazwanych argument\u00f3w\n",
      "* nie musi reagowa\u0107 poprawnie na domy\u015blne argumenty, tzn. wywo\u0142anie funkcji z domy\u015blnymi argumentami a podanie dok\u0142adnie takich samych mo\u017ce by\u0107 traktowane jako dwa r\u00f3\u017cne wywo\u0142ania\n",
      "* na opakowanej funkcji mo\u017cna wywo\u0142a\u0107 `.cache_reset()`, kt\u00f3ry usunie cache z pami\u0119ci\n",
      "* wywo\u0142anie `.cache_status()` zwraca string z opisem w postaci:\n",
      "\n",
      "  Function FUNCTION_NAME called X times, evaluated Y times\n",
      "  "
     ]
    },
    {
     "cell_type": "code",
     "collapsed": false,
     "input": [
      "from random import random\n",
      "\n",
      "@cached\n",
      "def foo(x, y=1, z=4):\n",
      "    return random()\n",
      "        \n",
      "print(foo(3) == foo(3))\n",
      "print(foo(4) == foo(4))\n",
      "print(foo(3, z=-1, y=3) == foo(3, y=3, z=-1))\n",
      "print(foo(3) != foo(x=3))\n",
      "a = foo(3)\n",
      "foo.cache_reset()\n",
      "print(a != foo(3))\n",
      "print(foo.cache_status() == 'Function foo called 10 times, evaluated 5 times')               "
     ],
     "language": "python",
     "metadata": {},
     "outputs": []
    }
   ],
   "metadata": {}
  }
 ]
}